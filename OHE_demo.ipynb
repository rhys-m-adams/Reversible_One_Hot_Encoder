{
 "cells": [
  {
   "cell_type": "code",
   "execution_count": 1,
   "metadata": {},
   "outputs": [
    {
     "name": "stdout",
     "output_type": "stream",
     "text": [
      "  Sex cat\n",
      "0   M   P\n",
      "1   F   P\n",
      "2   M  af\n",
      "3   M   P\n",
      "4   F  CD\n",
      "5  NA   P\n",
      "6  NA  CD\n",
      "7  NA   G\n",
      "8   F   P\n",
      "9   M   Q\n"
     ]
    }
   ],
   "source": [
    "import pandas\n",
    "import numpy as np\n",
    "from OneHotEncoder import OHE\n",
    "\n",
    "Xtrain = pandas.DataFrame({'Sex':['M','F','M','M','F','NA','NA','NA','F','M'],'cat':['P','P','af','P','CD','P','CD','G','P','Q']})\n",
    "print(Xtrain)"
   ]
  },
  {
   "cell_type": "code",
   "execution_count": 2,
   "metadata": {},
   "outputs": [
    {
     "name": "stdout",
     "output_type": "stream",
     "text": [
      "Train encoder and transform the data frame; Transformed dataframe:\n",
      "[[0. 1. 0. 0. 1. 0.]\n",
      " [0. 0. 0. 0. 1. 0.]\n",
      " [0. 1. 0. 0. 0. 1.]\n",
      " [0. 1. 0. 0. 1. 0.]\n",
      " [0. 0. 0. 0. 0. 0.]\n",
      " [1. 0. 0. 0. 1. 0.]\n",
      " [1. 0. 0. 0. 0. 0.]\n",
      " [1. 0. 1. 0. 0. 0.]\n",
      " [0. 0. 0. 0. 1. 0.]\n",
      " [0. 1. 0. 1. 0. 0.]]\n"
     ]
    }
   ],
   "source": [
    "print('Train encoder and transform the data frame; Transformed dataframe:')\n",
    "enc = OHE(Xtrain, ref=['F', 'CD'])\n",
    "A = enc.transform(Xtrain)\n",
    "print(A)"
   ]
  },
  {
   "cell_type": "code",
   "execution_count": 3,
   "metadata": {},
   "outputs": [
    {
     "name": "stdout",
     "output_type": "stream",
     "text": [
      "Reverse transform back to the data frame; Reverse transformed array:\n",
      "  Sex cat\n",
      "0   M   P\n",
      "1   F   P\n",
      "2   M  af\n",
      "3   M   P\n",
      "4   F  CD\n",
      "5  NA   P\n",
      "6  NA  CD\n",
      "7  NA   G\n",
      "8   F   P\n",
      "9   M   Q\n",
      "Identical elements:\n",
      "    Sex   cat\n",
      "0  True  True\n",
      "1  True  True\n",
      "2  True  True\n",
      "3  True  True\n",
      "4  True  True\n",
      "5  True  True\n",
      "6  True  True\n",
      "7  True  True\n",
      "8  True  True\n",
      "9  True  True\n"
     ]
    }
   ],
   "source": [
    "print('Reverse transform back to the data frame; Reverse transformed array:')\n",
    "retransform = enc.rev_transform(A)\n",
    "print(retransform)\n",
    "print('Identical elements:')\n",
    "print(retransform==Xtrain)"
   ]
  },
  {
   "cell_type": "code",
   "execution_count": null,
   "metadata": {},
   "outputs": [],
   "source": []
  }
 ],
 "metadata": {
  "kernelspec": {
   "display_name": "Python 3",
   "language": "python",
   "name": "python3"
  },
  "language_info": {
   "codemirror_mode": {
    "name": "ipython",
    "version": 3
   },
   "file_extension": ".py",
   "mimetype": "text/x-python",
   "name": "python",
   "nbconvert_exporter": "python",
   "pygments_lexer": "ipython3",
   "version": "3.8.5"
  }
 },
 "nbformat": 4,
 "nbformat_minor": 4
}
